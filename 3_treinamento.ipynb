{
 "cells": [
  {
   "cell_type": "code",
   "execution_count": 1,
   "metadata": {},
   "outputs": [],
   "source": [
    "import pandas as pd\n",
    "import numpy as np\n",
    "import matplotlib.pyplot as plt\n",
    "\n",
    "from sklearn.model_selection import train_test_split\n",
    "from sklearn.metrics import classification_report\n",
    "from sklearn.metrics import accuracy_score, f1_score\n",
    "from sklearn.model_selection import cross_val_score\n",
    "\n",
    "from sklearn.model_selection import GridSearchCV\n",
    "from sklearn.decomposition import PCA\n",
    "from sklearn.preprocessing import StandardScaler\n",
    "from sklearn.neural_network import MLPClassifier\n",
    "\n",
    "import warnings\n",
    "warnings.filterwarnings(\"ignore\")"
   ]
  },
  {
   "cell_type": "code",
   "execution_count": 2,
   "metadata": {},
   "outputs": [
    {
     "name": "stdout",
     "output_type": "stream",
     "text": [
      "(91842, 90)\n"
     ]
    },
    {
     "data": {
      "text/html": [
       "<div>\n",
       "<style scoped>\n",
       "    .dataframe tbody tr th:only-of-type {\n",
       "        vertical-align: middle;\n",
       "    }\n",
       "\n",
       "    .dataframe tbody tr th {\n",
       "        vertical-align: top;\n",
       "    }\n",
       "\n",
       "    .dataframe thead th {\n",
       "        text-align: right;\n",
       "    }\n",
       "</style>\n",
       "<table border=\"1\" class=\"dataframe\">\n",
       "  <thead>\n",
       "    <tr style=\"text-align: right;\">\n",
       "      <th></th>\n",
       "      <th>age</th>\n",
       "      <th>time_in_hospital</th>\n",
       "      <th>num_lab_procedures</th>\n",
       "      <th>num_procedures</th>\n",
       "      <th>num_medications</th>\n",
       "      <th>number_outpatient</th>\n",
       "      <th>number_emergency</th>\n",
       "      <th>number_inpatient</th>\n",
       "      <th>diag_1</th>\n",
       "      <th>diag_2</th>\n",
       "      <th>...</th>\n",
       "      <th>admission_source_id_7</th>\n",
       "      <th>admission_source_id_8</th>\n",
       "      <th>admission_source_id_9</th>\n",
       "      <th>admission_source_id_10</th>\n",
       "      <th>admission_source_id_11</th>\n",
       "      <th>admission_source_id_14</th>\n",
       "      <th>admission_source_id_17</th>\n",
       "      <th>admission_source_id_20</th>\n",
       "      <th>admission_source_id_22</th>\n",
       "      <th>admission_source_id_25</th>\n",
       "    </tr>\n",
       "  </thead>\n",
       "  <tbody>\n",
       "    <tr>\n",
       "      <td>0</td>\n",
       "      <td>15</td>\n",
       "      <td>3</td>\n",
       "      <td>59</td>\n",
       "      <td>0</td>\n",
       "      <td>18</td>\n",
       "      <td>0</td>\n",
       "      <td>0</td>\n",
       "      <td>0</td>\n",
       "      <td>276.00</td>\n",
       "      <td>250.01</td>\n",
       "      <td>...</td>\n",
       "      <td>1</td>\n",
       "      <td>0</td>\n",
       "      <td>0</td>\n",
       "      <td>0</td>\n",
       "      <td>0</td>\n",
       "      <td>0</td>\n",
       "      <td>0</td>\n",
       "      <td>0</td>\n",
       "      <td>0</td>\n",
       "      <td>0</td>\n",
       "    </tr>\n",
       "    <tr>\n",
       "      <td>1</td>\n",
       "      <td>35</td>\n",
       "      <td>2</td>\n",
       "      <td>44</td>\n",
       "      <td>1</td>\n",
       "      <td>16</td>\n",
       "      <td>0</td>\n",
       "      <td>0</td>\n",
       "      <td>0</td>\n",
       "      <td>8.00</td>\n",
       "      <td>250.43</td>\n",
       "      <td>...</td>\n",
       "      <td>1</td>\n",
       "      <td>0</td>\n",
       "      <td>0</td>\n",
       "      <td>0</td>\n",
       "      <td>0</td>\n",
       "      <td>0</td>\n",
       "      <td>0</td>\n",
       "      <td>0</td>\n",
       "      <td>0</td>\n",
       "      <td>0</td>\n",
       "    </tr>\n",
       "    <tr>\n",
       "      <td>2</td>\n",
       "      <td>45</td>\n",
       "      <td>1</td>\n",
       "      <td>51</td>\n",
       "      <td>0</td>\n",
       "      <td>8</td>\n",
       "      <td>0</td>\n",
       "      <td>0</td>\n",
       "      <td>0</td>\n",
       "      <td>197.00</td>\n",
       "      <td>157.00</td>\n",
       "      <td>...</td>\n",
       "      <td>1</td>\n",
       "      <td>0</td>\n",
       "      <td>0</td>\n",
       "      <td>0</td>\n",
       "      <td>0</td>\n",
       "      <td>0</td>\n",
       "      <td>0</td>\n",
       "      <td>0</td>\n",
       "      <td>0</td>\n",
       "      <td>0</td>\n",
       "    </tr>\n",
       "    <tr>\n",
       "      <td>3</td>\n",
       "      <td>55</td>\n",
       "      <td>3</td>\n",
       "      <td>31</td>\n",
       "      <td>6</td>\n",
       "      <td>16</td>\n",
       "      <td>0</td>\n",
       "      <td>0</td>\n",
       "      <td>0</td>\n",
       "      <td>414.00</td>\n",
       "      <td>411.00</td>\n",
       "      <td>...</td>\n",
       "      <td>0</td>\n",
       "      <td>0</td>\n",
       "      <td>0</td>\n",
       "      <td>0</td>\n",
       "      <td>0</td>\n",
       "      <td>0</td>\n",
       "      <td>0</td>\n",
       "      <td>0</td>\n",
       "      <td>0</td>\n",
       "      <td>0</td>\n",
       "    </tr>\n",
       "    <tr>\n",
       "      <td>4</td>\n",
       "      <td>75</td>\n",
       "      <td>5</td>\n",
       "      <td>73</td>\n",
       "      <td>0</td>\n",
       "      <td>12</td>\n",
       "      <td>0</td>\n",
       "      <td>0</td>\n",
       "      <td>0</td>\n",
       "      <td>428.00</td>\n",
       "      <td>492.00</td>\n",
       "      <td>...</td>\n",
       "      <td>1</td>\n",
       "      <td>0</td>\n",
       "      <td>0</td>\n",
       "      <td>0</td>\n",
       "      <td>0</td>\n",
       "      <td>0</td>\n",
       "      <td>0</td>\n",
       "      <td>0</td>\n",
       "      <td>0</td>\n",
       "      <td>0</td>\n",
       "    </tr>\n",
       "    <tr>\n",
       "      <td>...</td>\n",
       "      <td>...</td>\n",
       "      <td>...</td>\n",
       "      <td>...</td>\n",
       "      <td>...</td>\n",
       "      <td>...</td>\n",
       "      <td>...</td>\n",
       "      <td>...</td>\n",
       "      <td>...</td>\n",
       "      <td>...</td>\n",
       "      <td>...</td>\n",
       "      <td>...</td>\n",
       "      <td>...</td>\n",
       "      <td>...</td>\n",
       "      <td>...</td>\n",
       "      <td>...</td>\n",
       "      <td>...</td>\n",
       "      <td>...</td>\n",
       "      <td>...</td>\n",
       "      <td>...</td>\n",
       "      <td>...</td>\n",
       "      <td>...</td>\n",
       "    </tr>\n",
       "    <tr>\n",
       "      <td>91837</td>\n",
       "      <td>75</td>\n",
       "      <td>3</td>\n",
       "      <td>51</td>\n",
       "      <td>0</td>\n",
       "      <td>16</td>\n",
       "      <td>0</td>\n",
       "      <td>0</td>\n",
       "      <td>0</td>\n",
       "      <td>250.13</td>\n",
       "      <td>291.00</td>\n",
       "      <td>...</td>\n",
       "      <td>1</td>\n",
       "      <td>0</td>\n",
       "      <td>0</td>\n",
       "      <td>0</td>\n",
       "      <td>0</td>\n",
       "      <td>0</td>\n",
       "      <td>0</td>\n",
       "      <td>0</td>\n",
       "      <td>0</td>\n",
       "      <td>0</td>\n",
       "    </tr>\n",
       "    <tr>\n",
       "      <td>91838</td>\n",
       "      <td>85</td>\n",
       "      <td>5</td>\n",
       "      <td>33</td>\n",
       "      <td>3</td>\n",
       "      <td>18</td>\n",
       "      <td>0</td>\n",
       "      <td>0</td>\n",
       "      <td>1</td>\n",
       "      <td>560.00</td>\n",
       "      <td>276.00</td>\n",
       "      <td>...</td>\n",
       "      <td>0</td>\n",
       "      <td>0</td>\n",
       "      <td>0</td>\n",
       "      <td>0</td>\n",
       "      <td>0</td>\n",
       "      <td>0</td>\n",
       "      <td>0</td>\n",
       "      <td>0</td>\n",
       "      <td>0</td>\n",
       "      <td>0</td>\n",
       "    </tr>\n",
       "    <tr>\n",
       "      <td>91839</td>\n",
       "      <td>75</td>\n",
       "      <td>1</td>\n",
       "      <td>53</td>\n",
       "      <td>0</td>\n",
       "      <td>9</td>\n",
       "      <td>1</td>\n",
       "      <td>0</td>\n",
       "      <td>0</td>\n",
       "      <td>38.00</td>\n",
       "      <td>590.00</td>\n",
       "      <td>...</td>\n",
       "      <td>1</td>\n",
       "      <td>0</td>\n",
       "      <td>0</td>\n",
       "      <td>0</td>\n",
       "      <td>0</td>\n",
       "      <td>0</td>\n",
       "      <td>0</td>\n",
       "      <td>0</td>\n",
       "      <td>0</td>\n",
       "      <td>0</td>\n",
       "    </tr>\n",
       "    <tr>\n",
       "      <td>91840</td>\n",
       "      <td>85</td>\n",
       "      <td>10</td>\n",
       "      <td>45</td>\n",
       "      <td>2</td>\n",
       "      <td>21</td>\n",
       "      <td>0</td>\n",
       "      <td>0</td>\n",
       "      <td>1</td>\n",
       "      <td>996.00</td>\n",
       "      <td>285.00</td>\n",
       "      <td>...</td>\n",
       "      <td>1</td>\n",
       "      <td>0</td>\n",
       "      <td>0</td>\n",
       "      <td>0</td>\n",
       "      <td>0</td>\n",
       "      <td>0</td>\n",
       "      <td>0</td>\n",
       "      <td>0</td>\n",
       "      <td>0</td>\n",
       "      <td>0</td>\n",
       "    </tr>\n",
       "    <tr>\n",
       "      <td>91841</td>\n",
       "      <td>75</td>\n",
       "      <td>6</td>\n",
       "      <td>13</td>\n",
       "      <td>3</td>\n",
       "      <td>3</td>\n",
       "      <td>0</td>\n",
       "      <td>0</td>\n",
       "      <td>0</td>\n",
       "      <td>530.00</td>\n",
       "      <td>530.00</td>\n",
       "      <td>...</td>\n",
       "      <td>1</td>\n",
       "      <td>0</td>\n",
       "      <td>0</td>\n",
       "      <td>0</td>\n",
       "      <td>0</td>\n",
       "      <td>0</td>\n",
       "      <td>0</td>\n",
       "      <td>0</td>\n",
       "      <td>0</td>\n",
       "      <td>0</td>\n",
       "    </tr>\n",
       "  </tbody>\n",
       "</table>\n",
       "<p>91842 rows × 90 columns</p>\n",
       "</div>"
      ],
      "text/plain": [
       "       age  time_in_hospital  num_lab_procedures  num_procedures  \\\n",
       "0       15                 3                  59               0   \n",
       "1       35                 2                  44               1   \n",
       "2       45                 1                  51               0   \n",
       "3       55                 3                  31               6   \n",
       "4       75                 5                  73               0   \n",
       "...    ...               ...                 ...             ...   \n",
       "91837   75                 3                  51               0   \n",
       "91838   85                 5                  33               3   \n",
       "91839   75                 1                  53               0   \n",
       "91840   85                10                  45               2   \n",
       "91841   75                 6                  13               3   \n",
       "\n",
       "       num_medications  number_outpatient  number_emergency  number_inpatient  \\\n",
       "0                   18                  0                 0                 0   \n",
       "1                   16                  0                 0                 0   \n",
       "2                    8                  0                 0                 0   \n",
       "3                   16                  0                 0                 0   \n",
       "4                   12                  0                 0                 0   \n",
       "...                ...                ...               ...               ...   \n",
       "91837               16                  0                 0                 0   \n",
       "91838               18                  0                 0                 1   \n",
       "91839                9                  1                 0                 0   \n",
       "91840               21                  0                 0                 1   \n",
       "91841                3                  0                 0                 0   \n",
       "\n",
       "       diag_1  diag_2  ...  admission_source_id_7  admission_source_id_8  \\\n",
       "0      276.00  250.01  ...                      1                      0   \n",
       "1        8.00  250.43  ...                      1                      0   \n",
       "2      197.00  157.00  ...                      1                      0   \n",
       "3      414.00  411.00  ...                      0                      0   \n",
       "4      428.00  492.00  ...                      1                      0   \n",
       "...       ...     ...  ...                    ...                    ...   \n",
       "91837  250.13  291.00  ...                      1                      0   \n",
       "91838  560.00  276.00  ...                      0                      0   \n",
       "91839   38.00  590.00  ...                      1                      0   \n",
       "91840  996.00  285.00  ...                      1                      0   \n",
       "91841  530.00  530.00  ...                      1                      0   \n",
       "\n",
       "       admission_source_id_9  admission_source_id_10  admission_source_id_11  \\\n",
       "0                          0                       0                       0   \n",
       "1                          0                       0                       0   \n",
       "2                          0                       0                       0   \n",
       "3                          0                       0                       0   \n",
       "4                          0                       0                       0   \n",
       "...                      ...                     ...                     ...   \n",
       "91837                      0                       0                       0   \n",
       "91838                      0                       0                       0   \n",
       "91839                      0                       0                       0   \n",
       "91840                      0                       0                       0   \n",
       "91841                      0                       0                       0   \n",
       "\n",
       "       admission_source_id_14  admission_source_id_17  admission_source_id_20  \\\n",
       "0                           0                       0                       0   \n",
       "1                           0                       0                       0   \n",
       "2                           0                       0                       0   \n",
       "3                           0                       0                       0   \n",
       "4                           0                       0                       0   \n",
       "...                       ...                     ...                     ...   \n",
       "91837                       0                       0                       0   \n",
       "91838                       0                       0                       0   \n",
       "91839                       0                       0                       0   \n",
       "91840                       0                       0                       0   \n",
       "91841                       0                       0                       0   \n",
       "\n",
       "       admission_source_id_22  admission_source_id_25  \n",
       "0                           0                       0  \n",
       "1                           0                       0  \n",
       "2                           0                       0  \n",
       "3                           0                       0  \n",
       "4                           0                       0  \n",
       "...                       ...                     ...  \n",
       "91837                       0                       0  \n",
       "91838                       0                       0  \n",
       "91839                       0                       0  \n",
       "91840                       0                       0  \n",
       "91841                       0                       0  \n",
       "\n",
       "[91842 rows x 90 columns]"
      ]
     },
     "execution_count": 2,
     "metadata": {},
     "output_type": "execute_result"
    }
   ],
   "source": [
    "data = pd.read_csv(\"diabetic_data_2.csv\")\n",
    "df = pd.DataFrame(data)\n",
    "print(df.shape)\n",
    "df"
   ]
  },
  {
   "cell_type": "code",
   "execution_count": 3,
   "metadata": {},
   "outputs": [],
   "source": [
    "X = df.drop([\"readmitted\"], axis=1)\n",
    "y = df[\"readmitted\"]"
   ]
  },
  {
   "cell_type": "code",
   "execution_count": 27,
   "metadata": {
    "scrolled": true
   },
   "outputs": [
    {
     "name": "stdout",
     "output_type": "stream",
     "text": [
      "f1-score average: 0.3229724507259979\n",
      "              precision    recall  f1-score   support\n",
      "\n",
      "           0       0.58      0.93      0.71     16234\n",
      "           1       0.72      0.21      0.32     14074\n",
      "\n",
      "    accuracy                           0.60     30308\n",
      "   macro avg       0.65      0.57      0.52     30308\n",
      "weighted avg       0.64      0.60      0.53     30308\n",
      "\n"
     ]
    }
   ],
   "source": [
    "X_train, X_test, y_train, y_test = train_test_split(X, y, test_size=0.33, random_state=42)\n",
    "\n",
    "model = MLPClassifier()\n",
    "model.fit(X_train, y_train)\n",
    "y_pred = model.predict(X_test)\n",
    "print(\"f1-score average:\", f1_score(y_test, y_pred))\n",
    "print(classification_report(y_test, y_pred))"
   ]
  },
  {
   "cell_type": "code",
   "execution_count": null,
   "metadata": {},
   "outputs": [],
   "source": []
  },
  {
   "cell_type": "markdown",
   "metadata": {},
   "source": [
    "# Tentativa 1\n",
    "### Normalização dos dados"
   ]
  },
  {
   "cell_type": "code",
   "execution_count": 7,
   "metadata": {},
   "outputs": [],
   "source": [
    "scaler = StandardScaler()\n",
    "scaler.fit(X)\n",
    "X_s = scaler.transform(X)"
   ]
  },
  {
   "cell_type": "code",
   "execution_count": 28,
   "metadata": {},
   "outputs": [
    {
     "name": "stdout",
     "output_type": "stream",
     "text": [
      "f1-score average: 0.5367586125251569\n",
      "              precision    recall  f1-score   support\n",
      "\n",
      "           0       0.62      0.72      0.67     16234\n",
      "           1       0.60      0.48      0.54     14074\n",
      "\n",
      "    accuracy                           0.61     30308\n",
      "   macro avg       0.61      0.60      0.60     30308\n",
      "weighted avg       0.61      0.61      0.61     30308\n",
      "\n"
     ]
    }
   ],
   "source": [
    "X_train, X_test, y_train, y_test = train_test_split(X_s, y, test_size=0.33, random_state=42)\n",
    "\n",
    "model = MLPClassifier()\n",
    "model.fit(X_train, y_train)\n",
    "y_pred = model.predict(X_test)\n",
    "print(\"f1-score average:\", f1_score(y_test, y_pred))\n",
    "print(classification_report(y_test, y_pred))"
   ]
  },
  {
   "cell_type": "code",
   "execution_count": null,
   "metadata": {},
   "outputs": [],
   "source": []
  },
  {
   "cell_type": "markdown",
   "metadata": {},
   "source": [
    "# Tentativa 2"
   ]
  },
  {
   "cell_type": "markdown",
   "metadata": {},
   "source": [
    "### PCA - sem normalizar"
   ]
  },
  {
   "cell_type": "code",
   "execution_count": 25,
   "metadata": {},
   "outputs": [
    {
     "name": "stdout",
     "output_type": "stream",
     "text": [
      "n_components 89: 0.510379\n",
      "n_components 79: 0.585480\n",
      "n_components 69: 0.575024\n",
      "n_components 60: 0.574961\n",
      "n_components 50: 0.607056\n",
      "n_components 40: 0.514572\n",
      "n_components 31: 0.595669\n",
      "n_components 21: 0.545050\n",
      "n_components 11: 0.524310\n",
      "n_components 2: 0.624903\n"
     ]
    },
    {
     "data": {
      "text/plain": [
       "[<matplotlib.lines.Line2D at 0x1c23526ac88>]"
      ]
     },
     "execution_count": 25,
     "metadata": {},
     "output_type": "execute_result"
    },
    {
     "data": {
      "image/png": "[encoded data removed]",
      "text/plain": [
       "<Figure size 432x288 with 1 Axes>"
      ]
     },
     "metadata": {
      "needs_background": "light"
     },
     "output_type": "display_data"
    }
   ],
   "source": [
    "results = dict()\n",
    "pca_components = [int(i) for i in np.linspace(89, 2, 10)]\n",
    "for n in pca_components:\n",
    "    pca = PCA(n_components=n)\n",
    "    X_r = pca.fit_transform(X)\n",
    "    \n",
    "    X_train, X_test, y_train, y_test = train_test_split(X_r, y, test_size=0.33, random_state=42)\n",
    "    model = MLPClassifier()\n",
    "    model.fit(X_train, y_train)\n",
    "    y_pred = model.predict(X_test)\n",
    "    f1 = f1_score(y_test, y_pred)\n",
    "    results[n] = f1\n",
    "    print(\"n_components %i: %f\" % (n, f1))\n",
    "\n",
    "plt.plot(list(results.keys()), list(results.values()))"
   ]
  },
  {
   "cell_type": "markdown",
   "metadata": {},
   "source": [
    "### PCA - dados normalizados"
   ]
  },
  {
   "cell_type": "code",
   "execution_count": 29,
   "metadata": {},
   "outputs": [
    {
     "name": "stdout",
     "output_type": "stream",
     "text": [
      "n_components 89: 0.575946\n",
      "n_components 79: 0.585071\n",
      "n_components 69: 0.585704\n",
      "n_components 60: 0.553105\n",
      "n_components 50: 0.595733\n",
      "n_components 40: 0.587485\n",
      "n_components 31: 0.582152\n",
      "n_components 21: 0.558828\n",
      "n_components 11: 0.535059\n",
      "n_components 2: 0.483946\n"
     ]
    },
    {
     "data": {
      "text/plain": [
       "[<matplotlib.lines.Line2D at 0x1c235379a08>]"
      ]
     },
     "execution_count": 29,
     "metadata": {},
     "output_type": "execute_result"
    },
    {
     "data": {
      "image/png": "[encoded data removed]",
      "text/plain": [
       "<Figure size 432x288 with 1 Axes>"
      ]
     },
     "metadata": {
      "needs_background": "light"
     },
     "output_type": "display_data"
    }
   ],
   "source": [
    "results = dict()\n",
    "pca_components = [int(i) for i in np.linspace(89, 2, 10)]\n",
    "for n in pca_components:\n",
    "    pca = PCA(n_components=n)\n",
    "    X_r = pca.fit_transform(X_s)\n",
    "    \n",
    "    X_train, X_test, y_train, y_test = train_test_split(X_r, y, test_size=0.33, random_state=42)\n",
    "    model = MLPClassifier()\n",
    "    model.fit(X_train, y_train)\n",
    "    y_pred = model.predict(X_test)\n",
    "    f1 = f1_score(y_test, y_pred)\n",
    "    results[n] = f1\n",
    "    print(\"n_components %i: %f\" % (n, f1))\n",
    "\n",
    "plt.plot(list(results.keys()), list(results.values()))"
   ]
  },
  {
   "cell_type": "code",
   "execution_count": null,
   "metadata": {},
   "outputs": [],
   "source": []
  },
  {
   "cell_type": "markdown",
   "metadata": {},
   "source": [
    "# Tentativa 3"
   ]
  },
  {
   "cell_type": "markdown",
   "metadata": {},
   "source": [
    "### Gridsearch"
   ]
  },
  {
   "cell_type": "code",
   "execution_count": 34,
   "metadata": {},
   "outputs": [
    {
     "name": "stdout",
     "output_type": "stream",
     "text": [
      "{'activation': 'tanh', 'learning_rate_init': 0.001, 'solver': 'adam'}\n"
     ]
    }
   ],
   "source": [
    "model = MLPClassifier()\n",
    "parameters = {\n",
    "    \"activation\": [\"identity\", \"logistic\", \"tanh\", \"relu\"],\n",
    "    \"solver\": [\"lbfgs\", \"sgd\", \"adam\"],\n",
    "    \"learning_rate_init\": [0.001, 0.05]\n",
    "}\n",
    "clf = GridSearchCV(model, parameters, cv=3, scoring=\"f1\")\n",
    "\n",
    "X_train, X_test, y_train, y_test = train_test_split(X, y, test_size=0.33, random_state=42)\n",
    "clf.fit(X_train, y_train)\n",
    "print(clf.best_params_)"
   ]
  },
  {
   "cell_type": "code",
   "execution_count": 35,
   "metadata": {},
   "outputs": [
    {
     "name": "stdout",
     "output_type": "stream",
     "text": [
      "f1-score average: 0.5272393048128342\n",
      "              precision    recall  f1-score   support\n",
      "\n",
      "           0       0.62      0.78      0.69     16234\n",
      "           1       0.64      0.45      0.53     14074\n",
      "\n",
      "    accuracy                           0.63     30308\n",
      "   macro avg       0.63      0.61      0.61     30308\n",
      "weighted avg       0.63      0.63      0.62     30308\n",
      "\n"
     ]
    }
   ],
   "source": [
    "X_train, X_test, y_train, y_test = train_test_split(X, y, test_size=0.33, random_state=42)\n",
    "\n",
    "model = MLPClassifier(activation=\"tanh\",\n",
    "                     solver=\"adam\",\n",
    "                     learning_rate_init=0.001)\n",
    "model.fit(X_train, y_train)\n",
    "y_pred = model.predict(X_test)\n",
    "print(\"f1-score average:\", f1_score(y_test, y_pred))\n",
    "print(classification_report(y_test, y_pred))"
   ]
  },
  {
   "cell_type": "code",
   "execution_count": null,
   "metadata": {},
   "outputs": [],
   "source": []
  },
  {
   "cell_type": "markdown",
   "metadata": {},
   "source": [
    "# Tentativa 4"
   ]
  },
  {
   "cell_type": "markdown",
   "metadata": {},
   "source": [
    "### Multi-layers"
   ]
  },
  {
   "cell_type": "code",
   "execution_count": 8,
   "metadata": {},
   "outputs": [
    {
     "name": "stdout",
     "output_type": "stream",
     "text": [
      "f1-score average: 0.5937499999999999\n",
      "              precision    recall  f1-score   support\n",
      "\n",
      "           0       0.65      0.67      0.66     16234\n",
      "           1       0.60      0.58      0.59     14074\n",
      "\n",
      "    accuracy                           0.63     30308\n",
      "   macro avg       0.63      0.63      0.63     30308\n",
      "weighted avg       0.63      0.63      0.63     30308\n",
      "\n"
     ]
    }
   ],
   "source": [
    "X_train, X_test, y_train, y_test = train_test_split(X, y, test_size=0.33, random_state=42)\n",
    "\n",
    "model = MLPClassifier([500, 500])\n",
    "model.fit(X_train, y_train)\n",
    "y_pred = model.predict(X_test)\n",
    "print(\"f1-score average:\", f1_score(y_test, y_pred))\n",
    "print(classification_report(y_test, y_pred))"
   ]
  },
  {
   "cell_type": "code",
   "execution_count": 9,
   "metadata": {},
   "outputs": [
    {
     "name": "stdout",
     "output_type": "stream",
     "text": [
      "f1-score average: 0.5432107572136818\n",
      "              precision    recall  f1-score   support\n",
      "\n",
      "           0       0.60      0.61      0.61     16234\n",
      "           1       0.55      0.54      0.54     14074\n",
      "\n",
      "    accuracy                           0.58     30308\n",
      "   macro avg       0.58      0.58      0.58     30308\n",
      "weighted avg       0.58      0.58      0.58     30308\n",
      "\n"
     ]
    }
   ],
   "source": [
    "X_train, X_test, y_train, y_test = train_test_split(X_s, y, test_size=0.33, random_state=42)\n",
    "\n",
    "model = MLPClassifier([500, 500])\n",
    "model.fit(X_train, y_train)\n",
    "y_pred = model.predict(X_test)\n",
    "print(\"f1-score average:\", f1_score(y_test, y_pred))\n",
    "print(classification_report(y_test, y_pred))"
   ]
  },
  {
   "cell_type": "code",
   "execution_count": 10,
   "metadata": {},
   "outputs": [
    {
     "name": "stdout",
     "output_type": "stream",
     "text": [
      "f1-score average: 0.583336439888164\n",
      "              precision    recall  f1-score   support\n",
      "\n",
      "           0       0.64      0.70      0.67     16234\n",
      "           1       0.61      0.56      0.58     14074\n",
      "\n",
      "    accuracy                           0.63     30308\n",
      "   macro avg       0.63      0.63      0.63     30308\n",
      "weighted avg       0.63      0.63      0.63     30308\n",
      "\n"
     ]
    }
   ],
   "source": [
    "X_train, X_test, y_train, y_test = train_test_split(X, y, test_size=0.33, random_state=42)\n",
    "\n",
    "model = MLPClassifier([1000, 1000, 1000])\n",
    "model.fit(X_train, y_train)\n",
    "y_pred = model.predict(X_test)\n",
    "print(\"f1-score average:\", f1_score(y_test, y_pred))\n",
    "print(classification_report(y_test, y_pred))"
   ]
  },
  {
   "cell_type": "code",
   "execution_count": 11,
   "metadata": {},
   "outputs": [
    {
     "name": "stdout",
     "output_type": "stream",
     "text": [
      "f1-score average: 0.5469543147208122\n",
      "              precision    recall  f1-score   support\n",
      "\n",
      "           0       0.61      0.60      0.60     16234\n",
      "           1       0.54      0.55      0.55     14074\n",
      "\n",
      "    accuracy                           0.58     30308\n",
      "   macro avg       0.57      0.57      0.57     30308\n",
      "weighted avg       0.58      0.58      0.58     30308\n",
      "\n"
     ]
    }
   ],
   "source": [
    "X_train, X_test, y_train, y_test = train_test_split(X_s, y, test_size=0.33, random_state=42)\n",
    "\n",
    "model = MLPClassifier([1000, 1000, 1000])\n",
    "model.fit(X_train, y_train)\n",
    "y_pred = model.predict(X_test)\n",
    "print(\"f1-score average:\", f1_score(y_test, y_pred))\n",
    "print(classification_report(y_test, y_pred))"
   ]
  },
  {
   "cell_type": "code",
   "execution_count": null,
   "metadata": {},
   "outputs": [],
   "source": []
  },
  {
   "cell_type": "markdown",
   "metadata": {},
   "source": [
    "# Tentativa 5"
   ]
  },
  {
   "cell_type": "code",
   "execution_count": 5,
   "metadata": {},
   "outputs": [
    {
     "name": "stdout",
     "output_type": "stream",
     "text": [
      "f1-score average: 0.6117213618066453\n",
      "              precision    recall  f1-score   support\n",
      "\n",
      "           0       0.66      0.61      0.64     16234\n",
      "           1       0.59      0.64      0.61     14074\n",
      "\n",
      "    accuracy                           0.62     30308\n",
      "   macro avg       0.62      0.63      0.62     30308\n",
      "weighted avg       0.63      0.62      0.62     30308\n",
      "\n"
     ]
    }
   ],
   "source": [
    "X_train, X_test, y_train, y_test = train_test_split(X, y, test_size=0.33, random_state=42)\n",
    "\n",
    "model = MLPClassifier(hidden_layer_sizes=[500, 500],\n",
    "                     activation=\"tanh\",\n",
    "                     solver=\"adam\",\n",
    "                     learning_rate_init=0.001)\n",
    "model.fit(X_train, y_train)\n",
    "y_pred = model.predict(X_test)\n",
    "print(\"f1-score average:\", f1_score(y_test, y_pred))\n",
    "print(classification_report(y_test, y_pred))"
   ]
  },
  {
   "cell_type": "code",
   "execution_count": 6,
   "metadata": {},
   "outputs": [
    {
     "name": "stdout",
     "output_type": "stream",
     "text": [
      "n_components 89: 0.539890\n",
      "n_components 79: 0.537057\n",
      "n_components 69: 0.534546\n",
      "n_components 60: 0.537787\n",
      "n_components 50: 0.538142\n",
      "n_components 40: 0.535523\n",
      "n_components 31: 0.525084\n",
      "n_components 21: 0.523296\n",
      "n_components 11: 0.516342\n",
      "n_components 2: 0.069290\n"
     ]
    },
    {
     "data": {
      "text/plain": [
       "[<matplotlib.lines.Line2D at 0x20307d86b88>]"
      ]
     },
     "execution_count": 6,
     "metadata": {},
     "output_type": "execute_result"
    },
    {
     "data": {
      "image/png": "[encoded data removed]",
      "text/plain": [
       "<Figure size 432x288 with 1 Axes>"
      ]
     },
     "metadata": {
      "needs_background": "light"
     },
     "output_type": "display_data"
    }
   ],
   "source": [
    "results = dict()\n",
    "pca_components = [int(i) for i in np.linspace(89, 2, 10)]\n",
    "for n in pca_components:\n",
    "    pca = PCA(n_components=n)\n",
    "    X_r = pca.fit_transform(X)\n",
    "    \n",
    "    X_train, X_test, y_train, y_test = train_test_split(X_r, y, test_size=0.33, random_state=42)\n",
    "    model = MLPClassifier(hidden_layer_sizes=[500, 500],\n",
    "                     activation=\"tanh\",\n",
    "                     solver=\"adam\",\n",
    "                     learning_rate_init=0.001)\n",
    "    model.fit(X_train, y_train)\n",
    "    y_pred = model.predict(X_test)\n",
    "    f1 = f1_score(y_test, y_pred)\n",
    "    results[n] = f1\n",
    "    print(\"n_components %i: %f\" % (n, f1))\n",
    "\n",
    "plt.plot(list(results.keys()), list(results.values()))"
   ]
  },
  {
   "cell_type": "code",
   "execution_count": null,
   "metadata": {},
   "outputs": [],
   "source": []
  },
  {
   "cell_type": "markdown",
   "metadata": {},
   "source": [
    "# Conclusão"
   ]
  },
  {
   "cell_type": "raw",
   "metadata": {},
   "source": [
    "Foram realizados vários testes com os dados utilizando MLPClassifier do scikit, pois com o modelo desenvolvido em aula ocorria erro de falta de memória. Esse erro provavelmente ocorreu porque nosso modelo não estava otimizado para grandes quantidades de dados, neste caso estamos trabalhando com um dataset de 90 colunas e quase 100.000 amostras.\n",
    "\n",
    "Primeiramente o modelo foi treinado sem nenhuma configuração específica e nenhuma alteração nos dados, os resultados obtidos foram:\n",
    "scikit.metrics f1_score: 0.3229724507259979\n",
    "scikit.metrics classification_report:\n",
    "              precision    recall  f1-score   support\n",
    "\n",
    "           0       0.58      0.93      0.71     16234\n",
    "           1       0.72      0.21      0.32     14074\n",
    "\n",
    "    accuracy                           0.60     30308\n",
    "   macro avg       0.65      0.57      0.52     30308\n",
    "weighted avg       0.64      0.60      0.53     30308\n"
   ]
  },
  {
   "cell_type": "raw",
   "metadata": {},
   "source": [
    "Tentativa 1: Os dados foram normalizados utilizando StandartScaler, e os resultados obtidos foram:\n",
    "scikit.metrics f1_score:  0.5367586125251569\n",
    "scikit.metrics classification_report:\n",
    "              precision    recall  f1-score   support\n",
    "\n",
    "           0       0.62      0.72      0.67     16234\n",
    "           1       0.60      0.48      0.54     14074\n",
    "\n",
    "    accuracy                           0.61     30308\n",
    "   macro avg       0.61      0.60      0.60     30308\n",
    "weighted avg       0.61      0.61      0.61     30308\n",
    "\n",
    "Aparentemente o f1-score não foi alterado, e a accuracy teve uma pequena queda.\n",
    "Conclusão: Tivemos um ganho no f1_score e na accuracy também.\n"
   ]
  },
  {
   "cell_type": "raw",
   "metadata": {},
   "source": [
    "Tentativa 2: O teste foi baseado em diminuir a dimensionalidade do dataset com os dados originais e também normalizados, utilizando o PCA. \n",
    "\n",
    "Os resultados obtidos para os dados originais foram (Onde o n_components é a dimenssão reduzida das colunas do dataset, e o valor respectivo é o f1_score calculado pelo scikit.metrics.):\n",
    "n_components 89: 0.510379\n",
    "n_components 79: 0.585480\n",
    "n_components 69: 0.575024\n",
    "n_components 60: 0.574961\n",
    "n_components 50: 0.607056\n",
    "n_components 40: 0.514572\n",
    "n_components 31: 0.595669\n",
    "n_components 21: 0.545050\n",
    "n_components 11: 0.524310\n",
    "n_components 2: 0.624903\n",
    "O maior valor de f1_score foi reduzindo a dimenssão para 2 colunas, com um resultado de 0.624903.\n",
    "\n",
    "E para os dados normalizados:\n",
    "n_components 89: 0.575946\n",
    "n_components 79: 0.585071\n",
    "n_components 69: 0.585704\n",
    "n_components 60: 0.553105\n",
    "n_components 50: 0.595733\n",
    "n_components 40: 0.587485\n",
    "n_components 31: 0.582152\n",
    "n_components 21: 0.558828\n",
    "n_components 11: 0.535059\n",
    "n_components 2: 0.483946\n",
    "O maior valor de f1_score foi reduzindo a dimenssão para 50 colunas, com um resultado de 0.595733.\n",
    "\n",
    "Conclusão: Obtivemos a melhor medida de f1_score até agora: 0.624903 reduzindo para 2 colunas e dados originais.\n"
   ]
  },
  {
   "cell_type": "raw",
   "metadata": {},
   "source": [
    "Tentativa 3: Foi utilizado a lib GridSearch para buscar os melhores parâmetros do MLPClassifier. O scoring do GridSearch foi setado para \"f1\", para priorizar melhores resultados do f1_score.\n",
    "Os melhores parâmetros retornados foram:\n",
    "{ \n",
    "    'activation': 'tanh', \n",
    "    'learning_rate_init': 0.001, \n",
    "    'solver': 'adam'\n",
    "}\n",
    "\n",
    "E assim, foi criado um modelo com este parâmetros, e foi rteinado utilizando os dados originais e sem redução:\n",
    "scikit.metrics f1_score:  0.5272393048128342\n",
    "scikit.metrics classification_report:\n",
    "              precision    recall  f1-score   support\n",
    "\n",
    "           0       0.62      0.78      0.69     16234\n",
    "           1       0.64      0.45      0.53     14074\n",
    "\n",
    "    accuracy                           0.63     30308\n",
    "   macro avg       0.63      0.61      0.61     30308\n",
    "weighted avg       0.63      0.63      0.62     30308\n",
    "\n",
    "Conclusão: O f1_score não foi um dos melhores, porém a accuracy chegou em seu maior valor: 0.63.\n"
   ]
  },
  {
   "cell_type": "raw",
   "metadata": {},
   "source": [
    "Tentativa 4: O foco deste teste foi aumentar as camadas internas da rede neural (hidden_layer_sizes). Foram realizadas 4 iterações: [500, 500] e [1000, 1000, 1000] para os dados originais e normalizados.\n",
    "Os resultados obtidos foram os seguintes:\n",
    "\n",
    "[500, 500] dados originais:\n",
    "scikit.metrics f1_score:  0.5937499999999999\n",
    "scikit.metrics classification_report:\n",
    "              precision    recall  f1-score   support\n",
    "\n",
    "           0       0.65      0.67      0.66     16234\n",
    "           1       0.60      0.58      0.59     14074\n",
    "\n",
    "    accuracy                           0.63     30308\n",
    "   macro avg       0.63      0.63      0.63     30308\n",
    "weighted avg       0.63      0.63      0.63     30308\n",
    "\n",
    "[500, 500] dados normalizados:\n",
    "scikit.metrics f1_score:  0.5432107572136818\n",
    "scikit.metrics classification_report:\n",
    "              precision    recall  f1-score   support\n",
    "\n",
    "           0       0.60      0.61      0.61     16234\n",
    "           1       0.55      0.54      0.54     14074\n",
    "\n",
    "    accuracy                           0.58     30308\n",
    "   macro avg       0.58      0.58      0.58     30308\n",
    "weighted avg       0.58      0.58      0.58     30308\n",
    "\n",
    "[1000, 1000, 1000] dados originais:\n",
    "scikit.metrics f1_score:  0.583336439888164\n",
    "scikit.metrics classification_report:\n",
    "              precision    recall  f1-score   support\n",
    "\n",
    "           0       0.64      0.70      0.67     16234\n",
    "           1       0.61      0.56      0.58     14074\n",
    "\n",
    "    accuracy                           0.63     30308\n",
    "   macro avg       0.63      0.63      0.63     30308\n",
    "weighted avg       0.63      0.63      0.63     30308\n",
    "\n",
    "[1000, 1000, 1000] dados normalizados:\n",
    "scikit.metrics f1_score:  0.5469543147208122\n",
    "scikit.metrics classification_report:\n",
    "              precision    recall  f1-score   support\n",
    "\n",
    "           0       0.61      0.60      0.60     16234\n",
    "           1       0.54      0.55      0.55     14074\n",
    "\n",
    "    accuracy                           0.58     30308\n",
    "   macro avg       0.57      0.57      0.57     30308\n",
    "weighted avg       0.58      0.58      0.58     30308\n",
    "\n",
    "Conclusão: O melhor resultado de f1_score foi com [500, 500] dados originais: 0.5937499999999999. Porém, o teste com [1000, 1000, 1000] dados originais teve uma melhor accuracy de 0.63.\n"
   ]
  },
  {
   "cell_type": "raw",
   "metadata": {},
   "source": [
    " Tentativa 5: Este último teste consistiu em reunir as melhores configurações dos testes anteriores e buscar um melhor resultado. O teste foi composto pelas seguintes configurações:\n",
    " - dados originais\n",
    " - com e sem PCA\n",
    " - melhores parâmetros do GridSearch\n",
    " - hidden_layer_sizes = [500, 500]\n",
    " \n",
    " Os resultados obitidos foram: \n",
    " - sem PCA:\n",
    " scikit.metrics f1_score:  0.6117213618066453\n",
    "scikit.metrics classification_report:\n",
    "              precision    recall  f1-score   support\n",
    "\n",
    "           0       0.66      0.61      0.64     16234\n",
    "           1       0.59      0.64      0.61     14074\n",
    "\n",
    "    accuracy                           0.62     30308\n",
    "   macro avg       0.62      0.63      0.62     30308\n",
    "weighted avg       0.63      0.62      0.62     30308\n",
    "\n",
    "- com PCA:\n",
    "n_components 89: 0.539890\n",
    "n_components 79: 0.537057\n",
    "n_components 69: 0.534546\n",
    "n_components 60: 0.537787\n",
    "n_components 50: 0.538142\n",
    "n_components 40: 0.535523\n",
    "n_components 31: 0.525084\n",
    "n_components 21: 0.523296\n",
    "n_components 11: 0.516342\n",
    "n_components 2: 0.069290\n",
    "\n",
    "\n",
    "Conclusão Final: \n",
    "\n",
    "Os resultados com PCA foram ruins então serão desconsiderados. \n",
    "O resultado com os dados originais foram um dos melhores de todos:\n",
    "\n",
    "f1_score: 0.6117213618066453, (as duas classes ficaram com f1_score acima de 0.6).\n",
    "accuracy : 0.63\n",
    "\n",
    "Cada tentativa foi importante para considerar ou não algum fator, e no fim conseguimos elevar as duas medidas.\n",
    "De certa forma 0.6 ainda está muito baixo de um bom model, porém eu acredito que teriamos que mexer um pouco mais nas features para conseguir um resultado melhor.\n",
    "\n",
    "Portanto, o exercício provou que é importante realizar várias tentativas diferentes para assim ter uma noção do que é bom ou não para determinados tipos de dados."
   ]
  }
 ],
 "metadata": {
  "kernelspec": {
   "display_name": "Python 3",
   "language": "python",
   "name": "python3"
  },
  "language_info": {
   "codemirror_mode": {
    "name": "ipython",
    "version": 3
   },
   "file_extension": ".py",
   "mimetype": "text/x-python",
   "name": "python",
   "nbconvert_exporter": "python",
   "pygments_lexer": "ipython3",
   "version": "3.7.3"
  }
 },
 "nbformat": 4,
 "nbformat_minor": 2
}
